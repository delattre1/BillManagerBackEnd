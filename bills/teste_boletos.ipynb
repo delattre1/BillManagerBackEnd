{
 "cells": [
  {
   "cell_type": "code",
   "execution_count": 226,
   "id": "697e7592",
   "metadata": {},
   "outputs": [],
   "source": [
    "from process_boleto import load_pdf, dados_boleto\n",
    "import pdftotext\n",
    "import re\n",
    "\n",
    "\n",
    "def remove_ponctuation(text):\n",
    "    punctuation = '[!-.:?;@/…|_=\"\\d+]'\n",
    "    pattern = re.compile(punctuation)\n",
    "    text_subbed = re.sub(pattern, '', text)\n",
    "    return text_subbed\n",
    "\n",
    "def load_pdf(path):\n",
    "    with open(path, \"rb\") as f:\n",
    "        pdf = pdftotext.PDF(f)\n",
    "        pdf = pdf[0]\n",
    "\n",
    "    split = pdf.split()\n",
    "    clean = ' '.join(split).replace('_', '').replace(\n",
    "        '-', '').replace('(', '').replace(')', '')  # .replace('/','')\n",
    "    palavras = clean.split()\n",
    "\n",
    "    return palavras\n"
   ]
  },
  {
   "cell_type": "code",
   "execution_count": 249,
   "id": "f3c0f162",
   "metadata": {},
   "outputs": [],
   "source": [
    "ex1 = '../media/ex1.pdf'\n",
    "ex2 = '../media/ex2.pdf'\n",
    "ex3 = '../media/ex3.pdf'\n",
    "ex4 = '../media/Boleto_0001_013688_144526.PDF'\n",
    "teste1 = '../media/bl204910p.pdf'\n",
    "\n",
    "words_isnt_empresa = []\n",
    "\n",
    "def get_empresa(path, empresa_words):\n",
    "    global words_isnt_empresa\n",
    "    palavras = load_pdf(path)\n",
    "    cleaned_words = [(remove_ponctuation(i)) for i in palavras if i.isupper()]\n",
    "    not_empresa  = [word for word in cleaned_words if word not in empresa_words]\n",
    "    words_isnt_empresa += not_empresa\n",
    "\n",
    "def get_name(path, words_isnt_empresa):\n",
    "    palavras = load_pdf(path)\n",
    "    cleaned_words = [(remove_ponctuation(i)) for i in palavras if i.isupper()]\n",
    "    empresa_possibilities = [word for word in cleaned_words if word not in words_isnt_empresa]\n",
    "    sem_duplicados = list(dict.fromkeys(empresa_possibilities))\n",
    "    contador = 0 \n",
    "    index = 0 \n",
    "    nome_empresa = []\n",
    "    while contador < 3:\n",
    "        palavra = sem_duplicados[index]\n",
    "        index += 1\n",
    "        if len(palavra) > 2:\n",
    "            contador += 1\n",
    "        nome_empresa.append(palavra)\n",
    "    return ' '.join(nome_empresa)\n"
   ]
  },
  {
   "cell_type": "code",
   "execution_count": 250,
   "id": "add6a2c1",
   "metadata": {},
   "outputs": [],
   "source": [
    "dic_empresas = {ex1: ['CZECH', 'E', 'DAL', 'COL', 'ASSESSORIA', 'CONTÁBIL'],\n",
    "                ex2: ['MACPONTA', 'MAQUINAS', 'AGRICOLAS'],\n",
    "                ex3: ['AGROPARCERIA', 'MANUTENCAO', 'DE', 'MAQS', 'AGRICOLAS', 'LTDA'],\n",
    "                ex4: ['AM', 'COMERCIO', 'DE', 'MOLAS', 'LTDA']\n",
    "               }"
   ]
  },
  {
   "cell_type": "code",
   "execution_count": 251,
   "id": "b891caae",
   "metadata": {},
   "outputs": [],
   "source": [
    "for path,empresa_words in dic_empresas.items():\n",
    "    get_empresa(path, empresa_words)  \n"
   ]
  },
  {
   "cell_type": "code",
   "execution_count": 252,
   "id": "f5953750",
   "metadata": {},
   "outputs": [
    {
     "name": "stdout",
     "output_type": "stream",
     "text": [
      "MACPONTA MAQUINAS AGRICOLAS\n"
     ]
    }
   ],
   "source": [
    "print(get_name(teste1, words_isnt_empresa))\n",
    "\n"
   ]
  }
 ],
 "metadata": {
  "kernelspec": {
   "display_name": "Python 3",
   "language": "python",
   "name": "python3"
  },
  "language_info": {
   "codemirror_mode": {
    "name": "ipython",
    "version": 3
   },
   "file_extension": ".py",
   "mimetype": "text/x-python",
   "name": "python",
   "nbconvert_exporter": "python",
   "pygments_lexer": "ipython3",
   "version": "3.9.5"
  }
 },
 "nbformat": 4,
 "nbformat_minor": 5
}
